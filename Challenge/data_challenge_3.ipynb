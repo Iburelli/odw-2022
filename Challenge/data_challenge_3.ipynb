{
 "cells": [
  {
   "cell_type": "code",
   "execution_count": 1,
   "id": "9e9f7e88",
   "metadata": {},
   "outputs": [],
   "source": [
    "# Download the challenge set files\n",
    "from pycbc.frame import read_frame\n",
    "import pylab\n",
    "from pycbc.filter import resample_to_delta_t, highpass, matched_filter\n",
    "from pycbc.psd import interpolate, inverse_spectrum_truncation\n",
    "from pycbc.waveform import get_fd_waveform\n",
    "from pycbc.vetoes import power_chisq\n",
    "from pycbc.events.ranking import newsnr\n",
    "import numpy\n",
    "%matplotlib inline"
   ]
  },
  {
   "cell_type": "code",
   "execution_count": 2,
   "id": "93142438",
   "metadata": {},
   "outputs": [],
   "source": [
    "# An example of how to read the data from these files:\n",
    "file_name = \"challenge3-2048.gwf\"\n",
    "\n",
    "#ifos = [\"H1\"]#, \"L1\"]\n",
    "#for ifo in ifos:\n",
    "#    ts_ifo = read_frame(file_name, f'{ifo}:CHALLENGE3)"
   ]
  },
  {
   "cell_type": "code",
   "execution_count": 3,
   "id": "1b816c75",
   "metadata": {},
   "outputs": [
    {
     "ename": "NameError",
     "evalue": "name 'ifos' is not defined",
     "output_type": "error",
     "traceback": [
      "\u001b[0;31m---------------------------------------------------------------------------\u001b[0m",
      "\u001b[0;31mNameError\u001b[0m                                 Traceback (most recent call last)",
      "Input \u001b[0;32mIn [3]\u001b[0m, in \u001b[0;36m<cell line: 6>\u001b[0;34m()\u001b[0m\n\u001b[1;32m      2\u001b[0m psd \u001b[38;5;241m=\u001b[39m {}\n\u001b[1;32m      4\u001b[0m pylab\u001b[38;5;241m.\u001b[39mfigure(figsize\u001b[38;5;241m=\u001b[39m[\u001b[38;5;241m10\u001b[39m, \u001b[38;5;241m5\u001b[39m])\n\u001b[0;32m----> 6\u001b[0m \u001b[38;5;28;01mfor\u001b[39;00m ifo \u001b[38;5;129;01min\u001b[39;00m \u001b[43mifos\u001b[49m:\n\u001b[1;32m      7\u001b[0m     \u001b[38;5;66;03m# Read in and precondition the data\u001b[39;00m\n\u001b[1;32m      8\u001b[0m     \u001b[38;5;66;03m#ts = m.strain(ifo).highpass_fir(15, 512)\u001b[39;00m\n\u001b[1;32m      9\u001b[0m     data[ifo] \u001b[38;5;241m=\u001b[39m resample_to_delta_t(ts_ifo, \u001b[38;5;241m1.0\u001b[39m\u001b[38;5;241m/\u001b[39m\u001b[38;5;241m2048\u001b[39m)\u001b[38;5;241m.\u001b[39mcrop(\u001b[38;5;241m2\u001b[39m, \u001b[38;5;241m2\u001b[39m)\n\u001b[1;32m     11\u001b[0m     \u001b[38;5;66;03m# Estimate the power spectral density of the data\u001b[39;00m\n\u001b[1;32m     12\u001b[0m     \u001b[38;5;66;03m# This chooses to use 2s samples in the PSD estimate.\u001b[39;00m\n\u001b[1;32m     13\u001b[0m     \u001b[38;5;66;03m# One should note that the tradeoff in segment length is that\u001b[39;00m\n\u001b[1;32m     14\u001b[0m     \u001b[38;5;66;03m# resolving narrow lines becomes more difficult.\u001b[39;00m\n",
      "\u001b[0;31mNameError\u001b[0m: name 'ifos' is not defined"
     ]
    },
    {
     "data": {
      "text/plain": [
       "<Figure size 720x360 with 0 Axes>"
      ]
     },
     "metadata": {},
     "output_type": "display_data"
    }
   ],
   "source": [
    "data = {}\n",
    "psd = {}\n",
    "\n",
    "pylab.figure(figsize=[10, 5])\n",
    "\n",
    "for ifo in ifos:\n",
    "    # Read in and precondition the data\n",
    "    #ts = m.strain(ifo).highpass_fir(15, 512)\n",
    "    data[ifo] = resample_to_delta_t(ts_ifo, 1.0/2048).crop(2, 2)\n",
    "\n",
    "    # Estimate the power spectral density of the data\n",
    "    # This chooses to use 2s samples in the PSD estimate.\n",
    "    # One should note that the tradeoff in segment length is that\n",
    "    # resolving narrow lines becomes more difficult.\n",
    "    p = data[ifo].psd(2)\n",
    "    p = interpolate(p, data[ifo].delta_f)\n",
    "    p = inverse_spectrum_truncation(p, int(2 * data[ifo].sample_rate), low_frequency_cutoff=15.0)\n",
    "    psd[ifo] = p\n",
    "    \n",
    "    pylab.plot(psd[ifo].sample_frequencies, psd[ifo], label=ifo)\n",
    "\n",
    "pylab.yscale('log')\n",
    "pylab.xscale('log')\n",
    "#pylab.ylim(1e-47, 1e-41)\n",
    "pylab.xlim(20, 1024)\n",
    "pylab.ylabel('$Strain^2 / Hz$')\n",
    "pylab.xlabel('Frequency (Hz)')\n",
    "pylab.grid()\n",
    "pylab.legend()\n",
    "pylab.show()"
   ]
  },
  {
   "cell_type": "code",
   "execution_count": null,
   "id": "834aad71",
   "metadata": {},
   "outputs": [],
   "source": [
    "def challenge_matched_filter(file_name,mass):\n",
    "    print(\"Looking at file {} with template mass {} M_sol\".format(file_name,mass))\n",
    "    channel_name = \"H1:CHALLENGE3\"\n",
    "    start = 800\n",
    "    end = 3000\n",
    "    ts = read_frame(file_name, channel_name, start, end)\n",
    "    ts = highpass(ts, 15.0)\n",
    "    strain_ts = resample_to_delta_t(ts, 1.0/2048)\n",
    "    conditioned_ts = strain_ts.crop(2, 2)\n",
    "    psd_ts = conditioned_ts.psd(4)\n",
    "    psd_ts = interpolate(psd_ts, conditioned_ts.delta_f)\n",
    "    psd_ts = inverse_spectrum_truncation(psd_ts, int(4 * conditioned_ts.sample_rate),\n",
    "    low_frequency_cutoff=15)\n",
    "    hp_x, _ = get_fd_waveform(approximant=\"IMRPhenomD\",\n",
    "                             mass1=mass, mass2=mass,\n",
    "                            f_lower=20.0, delta_f=conditioned_ts.delta_f)\n",
    "    hp_x.resize(len(psd_ts))\n",
    "\n",
    "    # For each observatory use this template to calculate the SNR time series\n",
    "    snr_x = matched_filter(hp_x, conditioned_ts, psd=psd_ts, low_frequency_cutoff=20).crop(5, 4)\n",
    "\n",
    "    pylab.figure(figsize=[14, 4])\n",
    "    pylab.plot(snr_x.sample_times, abs(snr_x), label='H1')\n",
    "    pylab.title('SNR Time Series')\n",
    "    pylab.grid()\n",
    "    #pylab.xlim(100,120)\n",
    "    #pylab.ylim(0, 15)\n",
    "    pylab.xlabel('Time (s)')\n",
    "    pylab.ylabel('Signal-to-noise (SNR)')\n",
    "    pylab.show()\n",
    "\n",
    "    chisq = {}\n",
    "    nbins = 26\n",
    "    chisq_x = power_chisq(hp_x, conditioned_ts, nbins, psd_ts, low_frequency_cutoff=20.0)\n",
    "    chisq_x = chisq_x.crop(5, 4)\n",
    "\n",
    "    dof_x = nbins * 2 - 2\n",
    "    chisq_x /= dof_x\n",
    "\n",
    "\n",
    "    # The rho-hat term above is named \"newsnr\" here\n",
    "    nsnr_x = newsnr(abs(snr_x), chisq_x)\n",
    "\n",
    "    # Plot the new SNR timeseries\n",
    "    pylab.figure(figsize=[14, 4])\n",
    "    pylab.plot(snr_x.sample_times, nsnr_x, label='H1')\n",
    "    pylab.title('NewSNR Timeseries')\n",
    "    pylab.grid()\n",
    "    #pylab.xlim(100,120)\n",
    "    #pylab.ylim(0, 15)\n",
    "    pylab.xlabel('Time (s)')\n",
    "    pylab.ylabel('Re-weighted Signal-to-noise')\n",
    "    pylab.show()\n",
    "    peak = numpy.argmax(abs(nsnr_x))\n",
    "    snrp = nsnr_x[peak]\n",
    "    time = ts.sample_times[peak]\n",
    "\n",
    "    print(\"We found a signal at {}s with SNR {}\".format(time, \n",
    "                                                        abs(snrp)))\n",
    "\n",
    "challenge_matched_filter(file_name, 10)"
   ]
  },
  {
   "cell_type": "code",
   "execution_count": null,
   "id": "b09981a5",
   "metadata": {},
   "outputs": [],
   "source": []
  }
 ],
 "metadata": {
  "kernelspec": {
   "display_name": "Python (igwn-py39)",
   "language": "python",
   "name": "igwn-py39"
  },
  "language_info": {
   "codemirror_mode": {
    "name": "ipython",
    "version": 3
   },
   "file_extension": ".py",
   "mimetype": "text/x-python",
   "name": "python",
   "nbconvert_exporter": "python",
   "pygments_lexer": "ipython3",
   "version": "3.9.12"
  }
 },
 "nbformat": 4,
 "nbformat_minor": 5
}
